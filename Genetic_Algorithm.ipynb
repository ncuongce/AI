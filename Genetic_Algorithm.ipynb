{
 "cells": [
  {
   "cell_type": "code",
   "execution_count": 2,
   "metadata": {
    "collapsed": true
   },
   "outputs": [],
   "source": [
    "from IPython.core.display import *\n",
    "from StringIO import StringIO\n",
    "import random"
   ]
  },
  {
   "cell_type": "markdown",
   "metadata": {},
   "source": [
    "** argmin function returns the genome which has the minimum value evaluated by the fitness function in the population **"
   ]
  },
  {
   "cell_type": "code",
   "execution_count": 3,
   "metadata": {
    "collapsed": false
   },
   "outputs": [],
   "source": [
    "def argmin(population, fitness_fn):\n",
    "    min_pop = population[0]\n",
    "    min_value = fitness_fn(min_pop)\n",
    "    for pop in population:\n",
    "        value = fitness_fn(pop)\n",
    "        if value < min_value:\n",
    "            min_pop, min_value = pop, value\n",
    "    return min_pop"
   ]
  },
  {
   "cell_type": "markdown",
   "metadata": {},
   "source": [
    "** reproduce function is used to reproduce a new genome from two others using crossover method **"
   ]
  },
  {
   "cell_type": "code",
   "execution_count": 4,
   "metadata": {
    "collapsed": true
   },
   "outputs": [],
   "source": [
    "def reproduce(x, y):\n",
    "    n = len(x)\n",
    "    c = random.randrange(n)\n",
    "    return x[:c] + y[c:]"
   ]
  },
  {
   "cell_type": "markdown",
   "metadata": {},
   "source": [
    "** random_selection function is used to randomly select the genomes with better value evaluated by fitness function from the population **"
   ]
  },
  {
   "cell_type": "code",
   "execution_count": 5,
   "metadata": {
    "collapsed": true
   },
   "outputs": [],
   "source": [
    "def random_selection(population, fitness_fn):\n",
    "    fitness_values = []\n",
    "    for pop in population:\n",
    "        fitness_values.append(fitness_fn(pop))\n",
    "    r_value = random.uniform(min(fitness_values), max(fitness_values))\n",
    "    for i in range(len(population)):\n",
    "        if fitness_values[i] < r_value:\n",
    "            return population[i]\n",
    "    return random.choice(population)"
   ]
  },
  {
   "cell_type": "markdown",
   "metadata": {},
   "source": [
    "** mutate_binary function is used to mutate the genome represented by binary strings. A random binary bit in the binary genome is selected to be flipped (0 to 1 or 1 to 0). It returns new mutated genome. **"
   ]
  },
  {
   "cell_type": "code",
   "execution_count": 6,
   "metadata": {
    "collapsed": true
   },
   "outputs": [],
   "source": [
    "def mutate_binary(genome):\n",
    "    g = genome[:]\n",
    "    r = random.randrange(len(g))\n",
    "    binary_list = [int(digit, 2) for digit in g[r]]\n",
    "    #r2 = random.randrange(len(binary_list))\n",
    "    r2 = random.choice([8, 9])\n",
    "    if binary_list[r2] == 0:\n",
    "        binary_list[r2] = 1\n",
    "    else:\n",
    "        binary_list[r2] = 0\n",
    "    #m = '{0:010b}'.format(random.randrange(0, 1024))\n",
    "    m = ''.join(str(b) for b in binary_list)\n",
    "    g[r] = m\n",
    "    return g"
   ]
  },
  {
   "cell_type": "markdown",
   "metadata": {},
   "source": [
    "** mutate_real function is used to mutate the genome represented by real numbers. A random real number in the genome is selected to be updated using gaussian noise distribution. It returns new mutated genome. **"
   ]
  },
  {
   "cell_type": "code",
   "execution_count": 7,
   "metadata": {
    "collapsed": true
   },
   "outputs": [],
   "source": [
    "def mutate_real(genome):\n",
    "    g = genome[:]\n",
    "    r = random.randrange(len(g))\n",
    "    m = 10\n",
    "    while (m < -5.12 or m > 5.12):\n",
    "        m = random.gauss(g[r], 0.3)\n",
    "    g[r] = m\n",
    "    return g"
   ]
  },
  {
   "cell_type": "markdown",
   "metadata": {},
   "source": [
    "** sphere_binary function returns shifted sphere function value from the genome represented by the binary string numbers. **"
   ]
  },
  {
   "cell_type": "code",
   "execution_count": 8,
   "metadata": {
    "collapsed": true
   },
   "outputs": [],
   "source": [
    "def sphere_binary(xs):\n",
    "    xs2 = []\n",
    "    for x in xs:\n",
    "        xs2.append((int(x, 2)-512)/100)\n",
    "    return sum([(x - 0.5)**2 for x in xs2])"
   ]
  },
  {
   "cell_type": "markdown",
   "metadata": {},
   "source": [
    "** sphere_binary function returns shifted sphere function value from the genome represented by the real numbers. **"
   ]
  },
  {
   "cell_type": "code",
   "execution_count": 9,
   "metadata": {
    "collapsed": false
   },
   "outputs": [],
   "source": [
    "def sphere_real(xs):\n",
    "    return sum([(x - 0.5)**2 for x in xs])"
   ]
  },
  {
   "cell_type": "markdown",
   "metadata": {},
   "source": [
    "** genetic_algorithm is used to find the minimum value of the sphere function using genetic algorithm. It returns the best genome in the population from multiple generations. **"
   ]
  },
  {
   "cell_type": "code",
   "execution_count": 10,
   "metadata": {
    "collapsed": true
   },
   "outputs": [],
   "source": [
    "def genetic_algorithm(population, fitness_fn, mutate_fn, num_gens):\n",
    "    for n in range(num_gens):\n",
    "        new_population = []\n",
    "        for i in range(len(population)):\n",
    "            x = random_selection(population, fitness_fn)\n",
    "            y = random_selection(population, fitness_fn)\n",
    "            child = reproduce(x, y)\n",
    "            new_child = mutate_fn(child)\n",
    "            new_population.append(new_child)\n",
    "        population = new_population\n",
    "    return argmin(population, fitness_fn)"
   ]
  },
  {
   "cell_type": "markdown",
   "metadata": {},
   "source": [
    "** binary_ga function uses genetic algorithm to calculate the minimum value of the sphere function. The numeric values are encoded as binary strings. **"
   ]
  },
  {
   "cell_type": "code",
   "execution_count": 11,
   "metadata": {
    "collapsed": true
   },
   "outputs": [],
   "source": [
    "def binary_ga():\n",
    "    population = []\n",
    "    for i in range(200):\n",
    "        genome = []\n",
    "        for i in range(10):\n",
    "            binstring = '{0:010b}'.format(random.randrange(0, 1024))\n",
    "            genome.append(binstring)\n",
    "        population.append(genome)\n",
    "    return genetic_algorithm(population, sphere_binary, mutate_binary, 100)"
   ]
  },
  {
   "cell_type": "markdown",
   "metadata": {},
   "source": [
    "** real_ga function uses genetic algorithm to calculate the minimum value of the sphere function. The numeric values are encoded as real numbers. **"
   ]
  },
  {
   "cell_type": "code",
   "execution_count": 12,
   "metadata": {
    "collapsed": false
   },
   "outputs": [],
   "source": [
    "def real_ga():\n",
    "    population = []\n",
    "    for i in range(200):\n",
    "        genome = []\n",
    "        for i in range(10):\n",
    "            genome.append(random.uniform(-5.12, 5.12))\n",
    "        population.append(genome)\n",
    "    return genetic_algorithm(population, sphere_real, mutate_real, 100)"
   ]
  },
  {
   "cell_type": "code",
   "execution_count": 13,
   "metadata": {
    "collapsed": false
   },
   "outputs": [
    {
     "name": "stdout",
     "output_type": "stream",
     "text": [
      "['1010100111', '1000100100', '1010010010', '0100001011', '1010001100', '1000011111', '1100000010', '1001100001', '0111001000', '1001100011']\n"
     ]
    },
    {
     "data": {
      "text/plain": [
       "18.5"
      ]
     },
     "execution_count": 13,
     "metadata": {},
     "output_type": "execute_result"
    }
   ],
   "source": [
    "bga = binary_ga()\n",
    "print bga\n",
    "sphere_binary(bga)"
   ]
  },
  {
   "cell_type": "code",
   "execution_count": 14,
   "metadata": {
    "collapsed": false
   },
   "outputs": [],
   "source": [
    "#rga = real_ga()\n",
    "#print rga\n",
    "#sphere_real(rga)"
   ]
  }
 ],
 "metadata": {
  "anaconda-cloud": {},
  "kernelspec": {
   "display_name": "Python [Root]",
   "language": "python",
   "name": "Python [Root]"
  },
  "language_info": {
   "codemirror_mode": {
    "name": "ipython",
    "version": 2
   },
   "file_extension": ".py",
   "mimetype": "text/x-python",
   "name": "python",
   "nbconvert_exporter": "python",
   "pygments_lexer": "ipython2",
   "version": "2.7.12"
  }
 },
 "nbformat": 4,
 "nbformat_minor": 0
}
