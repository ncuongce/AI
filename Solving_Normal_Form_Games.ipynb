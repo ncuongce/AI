{
 "cells": [
  {
   "cell_type": "code",
   "execution_count": 2,
   "metadata": {
    "collapsed": true
   },
   "outputs": [],
   "source": [
    "from IPython.core.display import *\n",
    "from operator import *\n",
    "import copy\n",
    "import itertools"
   ]
  },
  {
   "cell_type": "code",
   "execution_count": 3,
   "metadata": {
    "collapsed": false
   },
   "outputs": [
    {
     "data": {
      "text/plain": [
       "[[(-5, -5), (-1, -10)], [(-10, -1), (-2, -2)]]"
      ]
     },
     "execution_count": 3,
     "metadata": {},
     "output_type": "execute_result"
    }
   ],
   "source": [
    "prisoners_dilemma = [\n",
    " [( -5, -5), (-1,-10)],\n",
    " [(-10, -1), (-2, -2)]]\n",
    "\n",
    "prisoners_dilemma"
   ]
  },
  {
   "cell_type": "markdown",
   "metadata": {},
   "source": [
    "Function remove_column is used to remove a column of strategy in game"
   ]
  },
  {
   "cell_type": "code",
   "execution_count": 4,
   "metadata": {
    "collapsed": false
   },
   "outputs": [],
   "source": [
    "def remove_column(game, col):\n",
    "    for row in game:\n",
    "        del row[col]"
   ]
  },
  {
   "cell_type": "markdown",
   "metadata": {},
   "source": [
    "Function remove_row is used to remove a row of strategy in game"
   ]
  },
  {
   "cell_type": "code",
   "execution_count": 5,
   "metadata": {
    "collapsed": true
   },
   "outputs": [],
   "source": [
    "def remove_row(l, row):\n",
    "    l.pop(row)"
   ]
  },
  {
   "cell_type": "markdown",
   "metadata": {},
   "source": [
    "Function compare_lt is used to compare less than of two lists of payoffs in game"
   ]
  },
  {
   "cell_type": "code",
   "execution_count": 6,
   "metadata": {
    "collapsed": true
   },
   "outputs": [],
   "source": [
    "def compare_lt(l1, l2):\n",
    "    return all(map(lt, l1, l2))"
   ]
  },
  {
   "cell_type": "markdown",
   "metadata": {},
   "source": [
    "Function compare_le is used to compare less than or equal of two lists of payoffs in game"
   ]
  },
  {
   "cell_type": "code",
   "execution_count": 7,
   "metadata": {
    "collapsed": true
   },
   "outputs": [],
   "source": [
    "def compare_le(l1, l2):\n",
    "    return all(map(le, l1, l2))"
   ]
  },
  {
   "cell_type": "markdown",
   "metadata": {},
   "source": [
    "Function find_lt is used to find the strong strategy list in game"
   ]
  },
  {
   "cell_type": "code",
   "execution_count": 8,
   "metadata": {
    "collapsed": false
   },
   "outputs": [],
   "source": [
    "def find_lt(l):\n",
    "    found = None\n",
    "    for x,y in itertools.combinations(l, 2):\n",
    "        if (compare_lt(x, y)):\n",
    "            found = x\n",
    "            break\n",
    "        if (compare_lt(y, x)):\n",
    "            found = y\n",
    "            break\n",
    "    if (found == None):\n",
    "        return -1\n",
    "    for i in range(0, len(l)):\n",
    "        if (l[i] == found):\n",
    "            return i"
   ]
  },
  {
   "cell_type": "markdown",
   "metadata": {},
   "source": [
    "Function find_lt is used to find the weak strategy list in game"
   ]
  },
  {
   "cell_type": "code",
   "execution_count": 9,
   "metadata": {
    "collapsed": true
   },
   "outputs": [],
   "source": [
    "def find_le(l):\n",
    "    found = None\n",
    "    for x,y in itertools.combinations(l, 2):\n",
    "        if (compare_le(x, y)):\n",
    "            found = x\n",
    "            break\n",
    "        if (compare_le(y, x)):\n",
    "            found = y\n",
    "            break\n",
    "    if (found == None):\n",
    "        return -1\n",
    "    for i in range(0, len(l)):\n",
    "        if (l[i] == found):\n",
    "            return i"
   ]
  },
  {
   "cell_type": "code",
   "execution_count": 10,
   "metadata": {
    "collapsed": true
   },
   "outputs": [],
   "source": [
    "def find_indices(game, strategy):\n",
    "    for i,l1 in enumerate(game):\n",
    "        for j,l2 in enumerate(l1):\n",
    "            if l2 == strategy:\n",
    "                return (i, j)\n",
    "    return (None, None)"
   ]
  },
  {
   "cell_type": "markdown",
   "metadata": {},
   "source": [
    "Function solve_game_p1 will find the strategy indices (x,y) of the Nash Equilibrium in the game matrix. The player 1 is picked first, then player 2."
   ]
  },
  {
   "cell_type": "code",
   "execution_count": 11,
   "metadata": {
    "collapsed": false
   },
   "outputs": [],
   "source": [
    "def solve_game_p1(game, weak=False):\n",
    "    game_p1 = copy.deepcopy(game)\n",
    "    while len(game_p1) > 1:\n",
    "        cmp_list = []\n",
    "        new_list = []\n",
    "        for row in game_p1:\n",
    "            new_list = [item[0] for item in row]\n",
    "            cmp_list.append(new_list)\n",
    "        if (weak == False):\n",
    "            index = find_lt(cmp_list)\n",
    "        elif (weak == True):\n",
    "            index = find_le(cmp_list)\n",
    "        if index == -1:\n",
    "            return (None, None)\n",
    "        remove_row(game_p1, index)\n",
    "        cmp_list = []\n",
    "        new_list = []\n",
    "        for i in range(0, len(game_p1[0])):\n",
    "            new_list = [item[i][1] for item in game_p1]\n",
    "            cmp_list.append(new_list)\n",
    "        if (weak == False):\n",
    "            index = find_lt(cmp_list)\n",
    "        elif (weak == True):\n",
    "            index = find_le(cmp_list)\n",
    "        if index == -1:\n",
    "            return (None, None)\n",
    "        remove_column(game_p1, index)\n",
    "    return find_indices(game, game_p1[0][0])"
   ]
  },
  {
   "cell_type": "markdown",
   "metadata": {},
   "source": [
    "Function solve_game_p2 will find the strategy indices (x,y) of the Nash Equilibrium in the game matrix. The player 2 is picked first, then player 1."
   ]
  },
  {
   "cell_type": "code",
   "execution_count": 12,
   "metadata": {
    "collapsed": true
   },
   "outputs": [],
   "source": [
    "def solve_game_p2(game, weak=False):\n",
    "    game_p2 = copy.deepcopy(game)\n",
    "    while len(game_p2) > 1:\n",
    "        cmp_list = []\n",
    "        new_list = []\n",
    "        for i in range(0, len(game_p2[0])):\n",
    "            new_list = [item[i][1] for item in game_p2]\n",
    "            cmp_list.append(new_list)\n",
    "        if (weak == False):\n",
    "            index = find_lt(cmp_list)\n",
    "        elif (weak == True):\n",
    "            index = find_le(cmp_list)\n",
    "        if index == -1:\n",
    "            return (None, None)\n",
    "        remove_column(game_p2, index)\n",
    "        cmp_list = []\n",
    "        new_list = []\n",
    "        for row in game_p2:\n",
    "            new_list = [item[0] for item in row]\n",
    "            cmp_list.append(new_list)\n",
    "        if (weak == False):\n",
    "            index = find_lt(cmp_list)\n",
    "        elif (weak == True):\n",
    "            index = find_le(cmp_list)\n",
    "        if index == -1:\n",
    "            return (None, None)\n",
    "        remove_row(game_p2, index)\n",
    "    return find_indices(game, game_p2[0][0])"
   ]
  },
  {
   "cell_type": "markdown",
   "metadata": {},
   "source": [
    "Function solve_game will find the strategy indices (x,y) of the Nash Equilibrium in the game matrix. If there is no pure strategy equilibrium that can be found using SEDS, return (None, None)."
   ]
  },
  {
   "cell_type": "code",
   "execution_count": 13,
   "metadata": {
    "collapsed": true
   },
   "outputs": [],
   "source": [
    "def solve_game(game, weak=False):\n",
    "    p1 = solve_game_p1(game, weak)\n",
    "    if (p1 == (None, None)):\n",
    "        p2 = solve_game_p2(game, weak)\n",
    "        return p2\n",
    "    else:\n",
    "        return p1"
   ]
  },
  {
   "cell_type": "code",
   "execution_count": 14,
   "metadata": {
    "collapsed": false
   },
   "outputs": [],
   "source": [
    "test_game_1 = [[(-5, -5), (-1, -10)], [(-10, -1), (-2, -2)]]\n",
    "nash = solve_game(test_game_1)"
   ]
  },
  {
   "cell_type": "code",
   "execution_count": 15,
   "metadata": {
    "collapsed": false
   },
   "outputs": [],
   "source": [
    "test_game_2 = [[(10,10), (14,12), (14,15)], [(12,14), (20,20), (28,15)], [(15,14), (15,28), (25,25)]]\n",
    "nash2 = solve_game(test_game_2)"
   ]
  },
  {
   "cell_type": "code",
   "execution_count": 16,
   "metadata": {
    "collapsed": false
   },
   "outputs": [
    {
     "data": {
      "text/plain": [
       "(None, None)"
      ]
     },
     "execution_count": 16,
     "metadata": {},
     "output_type": "execute_result"
    }
   ],
   "source": [
    "test_game_3 = [[(9,4), (5,2), (5,5)], [(6,10), (2,8), (7,10)], [(2,8), (8,3), (9,8)]]\n",
    "nash3 = solve_game(test_game_3, True)"
   ]
  },
  {
   "cell_type": "code",
   "execution_count": 17,
   "metadata": {
    "collapsed": false
   },
   "outputs": [
    {
     "name": "stdout",
     "output_type": "stream",
     "text": [
      "(20, 20)\n"
     ]
    }
   ],
   "source": [
    "g = (test_game_2[nash3[1]][nash3[0]])\n",
    "print g"
   ]
  }
 ],
 "metadata": {
  "anaconda-cloud": {},
  "kernelspec": {
   "display_name": "Python [Root]",
   "language": "python",
   "name": "Python [Root]"
  },
  "language_info": {
   "codemirror_mode": {
    "name": "ipython",
    "version": 2
   },
   "file_extension": ".py",
   "mimetype": "text/x-python",
   "name": "python",
   "nbconvert_exporter": "python",
   "pygments_lexer": "ipython2",
   "version": "2.7.12"
  }
 },
 "nbformat": 4,
 "nbformat_minor": 0
}
