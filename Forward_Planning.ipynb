{
 "cells": [
  {
   "cell_type": "code",
   "execution_count": 2,
   "metadata": {
    "collapsed": true
   },
   "outputs": [],
   "source": [
    "%matplotlib inline\n",
    "\n",
    "from __future__ import division # 1/2 = 0.5 instead of 0\n",
    "from IPython.core.display import *"
   ]
  },
  {
   "cell_type": "code",
   "execution_count": 3,
   "metadata": {
    "collapsed": false
   },
   "outputs": [],
   "source": [
    "from unification import *"
   ]
  },
  {
   "cell_type": "markdown",
   "metadata": {},
   "source": [
    "** Function is_same_state() is used to check whether two states are same or not. **"
   ]
  },
  {
   "cell_type": "code",
   "execution_count": 4,
   "metadata": {
    "collapsed": false
   },
   "outputs": [],
   "source": [
    "def is_same_state(state1, state2):\n",
    "    if len(state1) != len(state2):\n",
    "        return False\n",
    "    for i in range(len(state1)):\n",
    "        if state1[i] != state2[i]:\n",
    "            return False\n",
    "    return True"
   ]
  },
  {
   "cell_type": "markdown",
   "metadata": {},
   "source": [
    "** Function forward_planner() returns a plan from start state to goal state. It uses DFS to explore states and apply actions until it find goal state. **"
   ]
  },
  {
   "cell_type": "code",
   "execution_count": 5,
   "metadata": {
    "collapsed": false
   },
   "outputs": [],
   "source": [
    "def forward_planner(start, goal, actions, debug=False):\n",
    "    state = start[:]\n",
    "    stack = []\n",
    "    checked = []\n",
    "    plan = []\n",
    "    stack.append(state)\n",
    "    while stack:\n",
    "        current_state = stack.pop(0)\n",
    "        if is_same_state(current_state, goal):\n",
    "            return plan\n",
    "        checked.append(current_state)\n",
    "        for a in actions:\n",
    "            action = actions[a][\"action\"]\n",
    "            conditions = actions[a][\"conditions\"]\n",
    "            add = actions[a][\"add\"][0]\n",
    "            delete = actions[a][\"delete\"][0]\n",
    "            d = {}\n",
    "            for exp1 in conditions:\n",
    "                for exp2 in current_state:\n",
    "                    exp = unify(exp1, exp2)\n",
    "                    if exp != False:\n",
    "                        for key in exp:\n",
    "                            if not d.get(key):\n",
    "                                d[key] = exp[key]\n",
    "            for k in d:\n",
    "                action = action.replace(k, d[k])\n",
    "                add = add.replace(k, d[k])\n",
    "                delete = delete.replace(k, d[k])\n",
    "            next_state = current_state[:]\n",
    "            for i in range(len(next_state)):\n",
    "                if next_state[i] == delete:\n",
    "                    next_state[i] = add\n",
    "            if next_state in checked:\n",
    "                continue\n",
    "            stack.append(next_state)\n",
    "            plan.append(action)\n",
    "    return []"
   ]
  },
  {
   "cell_type": "code",
   "execution_count": 6,
   "metadata": {
    "collapsed": false
   },
   "outputs": [],
   "source": [
    "start_state = [\n",
    "    \"(item Drill)\",\n",
    "    \"(place1 Home)\",\n",
    "    \"(place2 Store)\",\n",
    "    \"(agent Me)\",\n",
    "    \"(at Me Home)\",\n",
    "    \"(at Drill Store)\"\n",
    "]"
   ]
  },
  {
   "cell_type": "code",
   "execution_count": 7,
   "metadata": {
    "collapsed": true
   },
   "outputs": [],
   "source": [
    "goal_state = [\n",
    "    \"(item Drill)\",\n",
    "    \"(place1 Home)\",\n",
    "    \"(place2 Store)\",\n",
    "    \"(agent Me)\",\n",
    "    \"(at Me Home)\",\n",
    "    \"(at Drill Me)\"\n",
    "]"
   ]
  },
  {
   "cell_type": "code",
   "execution_count": 8,
   "metadata": {
    "collapsed": false
   },
   "outputs": [],
   "source": [
    "actions = {\n",
    "    \"drive\": {\n",
    "        \"action\": \"(drive ?agent ?from ?to)\",\n",
    "        \"conditions\": [\n",
    "            \"(agent ?agent)\",\n",
    "            \"(place1 ?from)\",\n",
    "            \"(place2 ?to)\",\n",
    "            \"(at ?agent ?from)\"\n",
    "        ],\n",
    "        \"add\": [\n",
    "            \"(at ?agent ?to)\"\n",
    "        ],\n",
    "        \"delete\": [\n",
    "            \"(at ?agent ?from)\"\n",
    "        ]\n",
    "    },\n",
    "    \"buy\": {\n",
    "        \"action\": \"(buy ?purchaser ?seller ?item)\",\n",
    "        \"conditions\": [\n",
    "            \"(item ?item)\",\n",
    "            \"(place2 ?seller)\",\n",
    "            \"(agent ?purchaser)\",\n",
    "            \"(at ?item ?seller)\",\n",
    "            \"(at ?purchaser ?seller)\"\n",
    "        ],\n",
    "        \"add\": [\n",
    "            \"(at ?item ?purchaser)\"\n",
    "        ],\n",
    "        \"delete\": [\n",
    "            \"(at ?item ?seller)\"\n",
    "        ]\n",
    "    }\n",
    "}"
   ]
  },
  {
   "cell_type": "code",
   "execution_count": 9,
   "metadata": {
    "collapsed": false
   },
   "outputs": [
    {
     "name": "stdout",
     "output_type": "stream",
     "text": [
      "(drive Me Home Store)\n",
      "(buy Me Store Drill)\n"
     ]
    }
   ],
   "source": [
    "plan = forward_planner(start_state, goal_state, actions)\n",
    "while plan:\n",
    "    print plan.pop()"
   ]
  }
 ],
 "metadata": {
  "anaconda-cloud": {},
  "kernelspec": {
   "display_name": "Python [Root]",
   "language": "python",
   "name": "Python [Root]"
  },
  "language_info": {
   "codemirror_mode": {
    "name": "ipython",
    "version": 2
   },
   "file_extension": ".py",
   "mimetype": "text/x-python",
   "name": "python",
   "nbconvert_exporter": "python",
   "pygments_lexer": "ipython2",
   "version": "2.7.12"
  }
 },
 "nbformat": 4,
 "nbformat_minor": 0
}
