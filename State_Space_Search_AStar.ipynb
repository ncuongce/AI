{
 "cells": [
  {
   "cell_type": "code",
   "execution_count": 1,
   "metadata": {
    "collapsed": true
   },
   "outputs": [],
   "source": [
    "%matplotlib inline\n",
    "\n",
    "from IPython.core.display import *\n",
    "import operator"
   ]
  },
  {
   "cell_type": "markdown",
   "metadata": {},
   "source": [
    "# Motivation\n",
    "\n",
    "Search is often used for path-finding in video games. Although the characters in a video game often move in continuous spaces,\n",
    "it is trivial to layout a \"waypoint\" system as a kind of navigation grid over the continuous space. Then if the character needs\n",
    "to get from Point A to Point B, it does a line of sight (LOS) scan to find the nearest waypoint (let's call it Waypoint A) and\n",
    "finds the nearest, LOS waypoint to Point B (let's call it Waypoint B). The agent then does a A* search for Waypoint B from Waypoint A to find the shortest path. The entire path is thus Point A to Waypoint A to Waypoint B to Point B.\n",
    "\n",
    "We're going to simplify the problem by working in a grid world. The symbols that form the grid have a special meaning as they\n",
    "specify the type of the terrain and the cost to enter a grid cell with that type of terrain:\n",
    "\n",
    "```\n",
    "token   terrain    cost \n",
    ".       plains     1\n",
    "*       forest     3\n",
    "^       hills      5\n",
    "~       swamp      7\n",
    "x       mountains  impassible\n",
    "```\n",
    "\n",
    "When you go from a plains node to a forest node it costs 3. When you go\n",
    "from a forest node to a plains node, it costs 1. You can think of the grid as a big graph. Each grid cell (terrain symbol)\n",
    "is a node and there are edges to the north, south, east and west (except at the edges).\n",
    "\n",
    "## The World\n",
    "\n",
    "The world is represented as a List of Lists of symbols that indicate the terrain:"
   ]
  },
  {
   "cell_type": "code",
   "execution_count": 2,
   "metadata": {
    "collapsed": false
   },
   "outputs": [],
   "source": [
    "full_world = [\n",
    "  ['.', '.', '.', '.', '.', '*', '*', '*', '*', '*', '*', '*', '*', '*', '*', '.', '.', '.', '.', '.', '.', '.', '.', '.', '.', '.', '.'], \n",
    "  ['.', '.', '.', '.', '.', '.', '.', '*', '*', '*', '*', '*', '*', '*', '*', '*', '.', '.', 'x', 'x', 'x', 'x', 'x', 'x', 'x', '.', '.'], \n",
    "  ['.', '.', '.', '.', 'x', 'x', '*', '*', '*', '*', '*', '*', '*', '*', '*', '*', '*', 'x', 'x', 'x', '^', '^', '^', 'x', 'x', '^', '^'], \n",
    "  ['.', '.', '.', '.', '^', 'x', 'x', 'x', '*', '*', '*', '*', '~', '~', '*', '*', '*', '*', '*', '.', '.', '^', '^', 'x', 'x', '^', '.'], \n",
    "  ['.', '.', '.', '^', '^', 'x', 'x', '*', '*', '.', '.', '~', '~', '~', '~', '*', '*', '*', '.', '.', '.', '^', 'x', 'x', 'x', '^', '.'], \n",
    "  ['.', '^', '^', '^', 'x', 'x', '^', '^', '.', '.', '.', '.', '~', '~', '~', '~', '~', '.', '.', '.', '.', '.', '^', 'x', '^', '.', '.'], \n",
    "  ['.', '^', '^', 'x', 'x', '^', '^', '.', '.', '.', '.', '^', 'x', 'x', 'x', '~', '~', '~', '.', '.', '.', '.', '.', '^', '.', '.', '.'], \n",
    "  ['.', '.', '^', '^', '^', '^', '^', '.', '.', '.', '.', '.', '.', '^', 'x', 'x', 'x', '~', '~', '~', '.', '.', '^', '^', '^', '.', '.'], \n",
    "  ['.', '.', '.', '^', '^', '^', '.', '.', '.', '.', '.', '.', '^', '^', 'x', 'x', '.', '~', '~', '.', '.', '^', '^', '^', '.', '.', '.'], \n",
    "  ['.', '.', '.', '~', '~', '~', '.', '.', '^', '^', '^', 'x', 'x', 'x', 'x', '.', '.', '.', '~', '.', '^', '^', '^', '.', '.', '.', '.'], \n",
    "  ['.', '.', '~', '~', '~', '~', '~', '.', '^', '^', 'x', 'x', 'x', '^', '.', '.', '.', '.', '.', '^', 'x', 'x', 'x', '^', '.', '.', '.'], \n",
    "  ['.', '~', '~', '~', '~', '~', '.', '.', '^', 'x', 'x', '^', '.', '.', '.', '.', '~', '~', '.', '.', '^', 'x', 'x', '^', '.', '.', '.'], \n",
    "  ['~', '~', '~', '~', '~', '.', '.', '^', '^', 'x', 'x', '^', '.', '~', '~', '~', '~', '.', '.', '.', '^', 'x', '^', '.', '.', '.', '.'], \n",
    "  ['.', '~', '~', '~', '~', '.', '.', '^', '*', '*', '^', '.', '.', '.', '.', '~', '~', '~', '~', '.', '.', '^', '.', '.', '.', '.', '.'], \n",
    "  ['.', '.', '.', '.', 'x', '.', '.', '*', '*', '*', '*', '^', '^', '^', '^', '.', '~', '~', '~', '.', '.', '^', 'x', '^', '.', '.', '.'], \n",
    "  ['.', '.', '.', 'x', 'x', 'x', '*', '*', '*', '*', '*', '*', 'x', 'x', 'x', '^', '^', '.', '~', '.', '^', 'x', 'x', '^', '.', '.', '.'], \n",
    "  ['.', '.', 'x', 'x', '*', '*', '*', '*', '*', '*', '*', '*', '*', '*', 'x', 'x', 'x', '.', '.', 'x', 'x', 'x', '.', '.', '.', '.', '.'], \n",
    "  ['.', '.', '.', 'x', 'x', '*', '*', '*', '*', '*', '*', '*', '*', '*', '*', '*', 'x', 'x', 'x', 'x', '.', '.', '.', '.', '.', '.', '.'], \n",
    "  ['.', '.', '.', 'x', 'x', 'x', '*', '*', '*', '*', '*', '*', '*', '*', '.', '.', '.', '^', '^', '.', '.', '.', '.', '.', '.', '.', '.'], \n",
    "  ['.', '.', '.', '.', 'x', 'x', 'x', '*', '*', '*', '*', '*', '*', '.', '.', '.', '.', '.', '.', '.', '.', '.', '.', '~', '~', '~', '~'], \n",
    "  ['.', '.', '^', '^', '^', '^', 'x', 'x', '*', '*', '*', '*', '*', '.', 'x', '.', '.', '.', '.', '.', '~', '~', '~', '~', '~', '~', '~'], \n",
    "  ['.', '.', '.', '.', '^', '^', '^', 'x', 'x', 'x', '*', '*', 'x', 'x', '.', '.', '.', '.', '.', '.', '~', '~', '~', '~', '~', '~', '~'], \n",
    "  ['.', '.', '.', '.', '.', '.', '^', '^', '^', 'x', 'x', 'x', 'x', '.', '.', '.', '.', '^', '^', '.', '.', '~', '~', '~', '~', '~', '~'], \n",
    "  ['.', '^', '^', '.', '.', '^', '^', '^', '^', '^', '.', '.', '.', '.', '.', '^', '^', 'x', 'x', '^', '^', '.', '~', '~', '~', '~', '~'], \n",
    "  ['^', 'x', '^', '^', '^', '^', '.', '.', '.', '.', '.', 'x', 'x', 'x', '^', '^', 'x', 'x', '.', 'x', 'x', '^', '^', '~', '~', '~', '~'], \n",
    "  ['^', 'x', 'x', 'x', '^', '.', '.', '.', '.', '.', '^', '^', 'x', 'x', 'x', 'x', '^', '^', '^', '^', 'x', 'x', 'x', '~', '~', '~', '~'], \n",
    "  ['^', '^', '.', '.', '.', '.', '.', '.', '.', '.', '.', '.', '^', '^', '^', '^', '^', '.', '.', '.', '.', '^', '^', '^', '.', '.', '.']]"
   ]
  },
  {
   "cell_type": "markdown",
   "metadata": {},
   "source": [
    "**Important Note**\n",
    "\n",
    "One implication of this representation is that (x, y) is world[ y][ x] so that (3, 2) is world[ 2][ 3] and world[ 7][ 9] is (9, 7).\n",
    "\n",
    "It is often easier to begin your programming by operating on test input that has an obvious solution. If we had a small 7x7 world with the following characteristics, what do you expect the policy would be?"
   ]
  },
  {
   "cell_type": "code",
   "execution_count": 3,
   "metadata": {
    "collapsed": false
   },
   "outputs": [],
   "source": [
    "test_world = [\n",
    "  ['.', '*', '*', '*', '*', '*', '*'],\n",
    "  ['.', '*', '*', '*', '*', '*', '*'],\n",
    "  ['.', '*', '*', '*', '*', '*', '*'],\n",
    "  ['.', '.', '.', '.', '.', '.', '.'],\n",
    "  ['*', '*', '*', '*', '*', '*', '.'],\n",
    "  ['*', '*', '*', '*', '*', '*', '.'],\n",
    "  ['*', '*', '*', '*', '*', '*', '.'],\n",
    "]"
   ]
  },
  {
   "cell_type": "code",
   "execution_count": 4,
   "metadata": {
    "collapsed": true
   },
   "outputs": [],
   "source": [
    "test_world2 = [\n",
    "  ['.', 'x', '*', '*', '*', '*', '*'],\n",
    "  ['.', 'x', '*', 'x', '.', '.', '.'],\n",
    "  ['.', 'x', '*', 'x', '.', 'x', '.'],\n",
    "  ['.', '*', '.', 'x', '.', 'x', '.'],\n",
    "  ['.', '.', '*', 'x', '.', 'x', '.'],\n",
    "  ['.', '*', '*', 'x', '.', '.', '.'],\n",
    "  ['.', '*', '*', '*', '*', 'x', '.'],\n",
    "]"
   ]
  },
  {
   "cell_type": "markdown",
   "metadata": {},
   "source": [
    "Remember that a state space search problem is formalized as States, Actions, Transitions and Costs. The map itself represents states and transitions. Costs is fairly easy:\n",
    "\n",
    "## Costs\n",
    "\n",
    "We can encode the costs described above in a Dictionary:"
   ]
  },
  {
   "cell_type": "code",
   "execution_count": 5,
   "metadata": {
    "collapsed": false
   },
   "outputs": [],
   "source": [
    "COSTS = { '.': 1, '*': 3, '^': 5, '~': 7}"
   ]
  },
  {
   "cell_type": "markdown",
   "metadata": {},
   "source": [
    "## Movement Model and Actions\n",
    "\n",
    "We can handle actions by both specifying a movement model and then checking for valid moves in our `successor` function.\n",
    "\n",
    "The movement model is a list of offsets for neighbors. When given the current state (x, y), it tells you the adjacent states. Note that not all such adjacent states are legal moves, for example, if (0,0) is the current state then (0, 0) + (0, -1) = (0, -1) which is off the map. Or if the current state is (5,5) and (5,6) is a mountain, then (0,1) would not be a legal move. You will need to check if a move is legal or not."
   ]
  },
  {
   "cell_type": "code",
   "execution_count": 6,
   "metadata": {
    "collapsed": true
   },
   "outputs": [],
   "source": [
    "MOVES = [(0,-1), (1,0), (0,1), (-1,0)]"
   ]
  },
  {
   "cell_type": "markdown",
   "metadata": {},
   "source": [
    "## A* Search\n",
    "\n",
    "Implement your code for A* search below. It should take the following form:\n",
    "\n",
    "```\n",
    "    def a_star_search( world, costs, start, goal, moves):\n",
    "```\n",
    "\n",
    "where `world` is a list of lists of terrain symbols, `costs` is a dictionary, `start` is a tuple (x, y) representing the starting coordinate, `goal` is a tuple (x,y) representing the goal coordinate, and `moves` is a list of tuples that represent (x,y) offsets.\n",
    "\n",
    "The function returns a list of tuples that represent the coordinates on the path from start to goal:\n",
    "\n",
    "[(0,0), (0,1), ...., (26, 26)]\n",
    "\n",
    "You should also write a function that prints out the world and the path over it as \"ASCII\" art:\n",
    "\n",
    "```\n",
    "    def show_path( world, path):\n",
    "```\n",
    "\n",
    "It has no return value. Remember how (x, y) is world[ y][ x].\n",
    "\n",
    "From here onward, you are to code up your implementation, using Markdown and Code blocks to write helper functions and comments for the `a_star_search` function. Like so:\n",
    "\n",
    "-----"
   ]
  },
  {
   "cell_type": "markdown",
   "metadata": {},
   "source": [
    "#Function get_position() is used to add two tuple move (x1,y1) and (x2,y2) together. The function returns new tuple move (x,y) with x=x1+x2 and y=y1+y2."
   ]
  },
  {
   "cell_type": "code",
   "execution_count": 7,
   "metadata": {
    "collapsed": false
   },
   "outputs": [],
   "source": [
    "def get_position(current, move):\n",
    "    return tuple(map(operator.add, current, move))"
   ]
  },
  {
   "cell_type": "markdown",
   "metadata": {},
   "source": [
    "#Function is_legal_move() is used to check whether the new move is legal. The function returns False if the move is not in the world or the move is on mountain 'x' or the move is not plain, forrest, hill, and swamp; otherwise, it returns True."
   ]
  },
  {
   "cell_type": "code",
   "execution_count": 8,
   "metadata": {
    "collapsed": false
   },
   "outputs": [],
   "source": [
    "def is_legal_move(world, current):\n",
    "    if current[0] < 0 or current[0] >= len(world[0]):\n",
    "        return False\n",
    "    if current[1] < 0 or current[1] >= len(world[0]):\n",
    "        return False\n",
    "    if world[current[1]][current[0]] == 'x':\n",
    "        return False\n",
    "    tokens = ['.', '*', '^', '~']\n",
    "    if world[current[1]][current[0]] not in tokens:\n",
    "        return False\n",
    "    return True"
   ]
  },
  {
   "cell_type": "markdown",
   "metadata": {},
   "source": [
    "#Function get_heuristic() is the heuristic function h used to calculate the heuristic distance from current to goal position. The heuristic function uses Manhattan distance h = d*(abs(x1-x2)+abs(y1-y2)). d is the minimum cost for moving to other terrains (For example, d of plain is 1).  "
   ]
  },
  {
   "cell_type": "code",
   "execution_count": 9,
   "metadata": {
    "collapsed": true
   },
   "outputs": [],
   "source": [
    "def get_heuristic(world, costs, current, goal):\n",
    "    token = world[current[1]][current[0]]\n",
    "    d = costs[token]\n",
    "    dx = abs(current[0] - goal[0])\n",
    "    dy = abs(current[1] - goal[1])\n",
    "    return d*(dx+dy)"
   ]
  },
  {
   "cell_type": "markdown",
   "metadata": {},
   "source": [
    "#Function get_cost() is the cost function g used to calculate the cost distance from start to current position. It returns the cost from start to current position."
   ]
  },
  {
   "cell_type": "code",
   "execution_count": 10,
   "metadata": {
    "collapsed": true
   },
   "outputs": [],
   "source": [
    "def get_cost(world, costs, current, prev_cost):\n",
    "    token = world[current[1]][current[0]]\n",
    "    return prev_cost + costs[token]"
   ]
  },
  {
   "cell_type": "markdown",
   "metadata": {},
   "source": [
    "#Function is_empty() is used to check whether the list is empty. It is particularly used to check whether the Frontier list is empty or not. It returns True if the list is empty; otherwise, it returns False. "
   ]
  },
  {
   "cell_type": "code",
   "execution_count": 11,
   "metadata": {
    "collapsed": true
   },
   "outputs": [],
   "source": [
    "def is_empty(l):\n",
    "    if l:\n",
    "        return False\n",
    "    else:\n",
    "        return True"
   ]
  },
  {
   "cell_type": "markdown",
   "metadata": {},
   "source": [
    "#Function is_in_frontier() is used to check whether the current move is in the frontier list or not. It returns -1 if the move is not in the frontier list; otherwise, it returns index of the move in the frontier list. "
   ]
  },
  {
   "cell_type": "code",
   "execution_count": 12,
   "metadata": {
    "collapsed": true
   },
   "outputs": [],
   "source": [
    "def is_in_frontier(frontier, current):\n",
    "    for i in range(0,len(frontier)):\n",
    "        if current == frontier[i][3]:\n",
    "            return i\n",
    "    return -1"
   ]
  },
  {
   "cell_type": "markdown",
   "metadata": {},
   "source": [
    "#Function build_path() is used to build the shortest path list generated from the A star search. The parameter path is a dictionary and it is like a bookkeeping that keep tracking moves of the search. path[goal] will return the previous move from goal position, and the function keep loop through the dictionary path until it finds the start to form the path list. "
   ]
  },
  {
   "cell_type": "code",
   "execution_count": 13,
   "metadata": {
    "collapsed": true
   },
   "outputs": [],
   "source": [
    "def build_path(path, start, goal):\n",
    "    ret_path = [goal]\n",
    "    current = goal\n",
    "    while path[current] != start:\n",
    "        current = path[current]\n",
    "        ret_path.append(current)\n",
    "    ret_path.append(start)\n",
    "    ret_path.reverse()\n",
    "    return ret_path"
   ]
  },
  {
   "cell_type": "markdown",
   "metadata": {},
   "source": [
    "###Function a_start_search is used to find the shortest path from start to goal in world. Possible moves are defined in moves. Cost of each move is defined in costs. Since the world is a square grid that allows 4 directions of movement (up, down, left, right), the heuristic function used for the below algorithm is \"Manhanttan Distance\" h = d*(abs(x1-x2)+abs(y1-y2)), and d is the minimum cost for moving to other terrains (For example, d of plain is 1). The function returns a list of moves of the shortest path from start to goal, and it returns empty list if it can't find the path from start to goal.\n",
    "\n",
    "###Pseudo code\n",
    "Explorer = empty list\n",
    "\n",
    "Frontier = empty list\n",
    "\n",
    "Path = empty dictionary\n",
    "\n",
    "f = g of start + h of start to goal\n",
    "\n",
    "push tuple (f,g,h,start) to Frontier\n",
    "\n",
    "while Frontier is not empty\n",
    "\n",
    "    current = the tuple in Frontier having lowest f value\n",
    "    if current is goal\n",
    "        return the shortest path\n",
    "    push current to Explorer\n",
    "    for each move in moves\n",
    "        get the next move\n",
    "        if the next move is not valid, skip\n",
    "        if the next move is already in Explorer, skip\n",
    "        Calculate f = g + h of the next move\n",
    "        push next move to Frontier if it not yet in Frontier\n",
    "        Update f value of next move in Frontier if it is already in Frontier\n",
    "        sort Frontier based on f value\n",
    "        Path[next_move] = current\n",
    "        \n",
    "return failure []"
   ]
  },
  {
   "cell_type": "code",
   "execution_count": 14,
   "metadata": {
    "collapsed": false
   },
   "outputs": [],
   "source": [
    "def a_star_search( world, costs, start, goal, moves):\n",
    "    if is_legal_move(world, start) == False:\n",
    "        return []\n",
    "    if is_legal_move(world, goal) == False:\n",
    "        return []\n",
    "    Explorer = []\n",
    "    Frontier = []\n",
    "    Path = {}\n",
    "    g = get_cost(world, costs, start, 0)\n",
    "    h = get_heuristic(world, costs, start, goal)\n",
    "    f = g + h\n",
    "    Frontier.append((f,g,h,start))\n",
    "    while not is_empty(Frontier):\n",
    "        current = Frontier.pop(0)\n",
    "        if current[3] == goal:\n",
    "            return build_path(Path, start, goal)\n",
    "        Explorer.append(current[3])\n",
    "        for move in moves:\n",
    "            next_move = get_position(current[3], move)\n",
    "            if is_legal_move(world, next_move) == False:\n",
    "                continue\n",
    "            if next_move in Explorer:\n",
    "                continue\n",
    "            i = is_in_frontier(Frontier, next_move)\n",
    "            g = get_cost(world, costs, next_move, current[1])\n",
    "            h = get_heuristic(world, costs, next_move, goal)\n",
    "            f = g + h\n",
    "            if i == -1:\n",
    "                Frontier.append((f,g,h,next_move))\n",
    "            elif (f < Frontier[i][0]):\n",
    "                Frontier[i] = (f,g,h,next_move)\n",
    "            Frontier.sort()\n",
    "            Path[next_move] = current[3]\n",
    "    return []"
   ]
  },
  {
   "cell_type": "markdown",
   "metadata": {},
   "source": [
    "#Function print_path() is used to print the shortest path from start to goal using A star search. It prints out both (x,y) moves and moves marked in \"()\" in grid square world."
   ]
  },
  {
   "cell_type": "code",
   "execution_count": 15,
   "metadata": {
    "collapsed": false
   },
   "outputs": [],
   "source": [
    "def print_path( world, path):\n",
    "    if path:\n",
    "        str_path = \"The path (x,y):\\n\"\n",
    "        for p in path:\n",
    "            str_path += \"->\"+str(p)\n",
    "        print str_path\n",
    "        str_map = \"The path map:\\n\"\n",
    "        for x in range(0, len(world[0])):\n",
    "            for h in range(0, len(world[0])):\n",
    "                str_map += '----'\n",
    "            str_map += '-\\n'\n",
    "            for y in range(0, len(world[0])):\n",
    "                if (y,x) in path:\n",
    "                    str_map += '|' + '(' + world[x][y] + ')'\n",
    "                else:\n",
    "                    str_map += '| ' + world[x][y] + ' '\n",
    "            str_map += '|\\n'\n",
    "        for h in range(0, len(world[0])):\n",
    "            str_map += '----'\n",
    "        str_map += '-\\n'\n",
    "        print str_map\n",
    "    else:\n",
    "        print \"Couldn't find the path\""
   ]
  },
  {
   "cell_type": "markdown",
   "metadata": {},
   "source": [
    "Execute `a_star_search` and `print_path` for the `test_world` and the `real_world`."
   ]
  },
  {
   "cell_type": "code",
   "execution_count": 16,
   "metadata": {
    "collapsed": false,
    "scrolled": true
   },
   "outputs": [
    {
     "name": "stdout",
     "output_type": "stream",
     "text": [
      "The path (x,y):\n",
      "->(0, 0)->(0, 1)->(0, 2)->(0, 3)->(1, 3)->(2, 3)->(3, 3)->(4, 3)->(5, 3)->(6, 3)->(6, 4)->(6, 5)->(6, 6)\n",
      "The path map:\n",
      "-----------------------------\n",
      "|(.)| * | * | * | * | * | * |\n",
      "-----------------------------\n",
      "|(.)| * | * | * | * | * | * |\n",
      "-----------------------------\n",
      "|(.)| * | * | * | * | * | * |\n",
      "-----------------------------\n",
      "|(.)|(.)|(.)|(.)|(.)|(.)|(.)|\n",
      "-----------------------------\n",
      "| * | * | * | * | * | * |(.)|\n",
      "-----------------------------\n",
      "| * | * | * | * | * | * |(.)|\n",
      "-----------------------------\n",
      "| * | * | * | * | * | * |(.)|\n",
      "-----------------------------\n",
      "\n"
     ]
    }
   ],
   "source": [
    "test_path = a_star_search( test_world, COSTS, (0, 0), (6, 6), MOVES)\n",
    "print_path( test_world, test_path)"
   ]
  },
  {
   "cell_type": "code",
   "execution_count": 17,
   "metadata": {
    "collapsed": false
   },
   "outputs": [
    {
     "name": "stdout",
     "output_type": "stream",
     "text": [
      "The path (x,y):\n",
      "->(0, 0)->(0, 1)->(0, 2)->(0, 3)->(0, 4)->(0, 5)->(0, 6)->(1, 6)->(2, 6)->(3, 6)->(4, 6)->(4, 5)->(5, 5)->(6, 5)->(6, 6)\n",
      "The path map:\n",
      "-----------------------------\n",
      "|(.)| x | * | * | * | * | * |\n",
      "-----------------------------\n",
      "|(.)| x | * | x | . | . | . |\n",
      "-----------------------------\n",
      "|(.)| x | * | x | . | x | . |\n",
      "-----------------------------\n",
      "|(.)| * | . | x | . | x | . |\n",
      "-----------------------------\n",
      "|(.)| . | * | x | . | x | . |\n",
      "-----------------------------\n",
      "|(.)| * | * | x |(.)|(.)|(.)|\n",
      "-----------------------------\n",
      "|(.)|(*)|(*)|(*)|(*)| x |(.)|\n",
      "-----------------------------\n",
      "\n"
     ]
    }
   ],
   "source": [
    "test_path2 = a_star_search( test_world2, COSTS, (0, 0), (6, 6), MOVES)\n",
    "print_path( test_world2, test_path2)"
   ]
  },
  {
   "cell_type": "code",
   "execution_count": 18,
   "metadata": {
    "collapsed": false,
    "scrolled": true
   },
   "outputs": [
    {
     "name": "stdout",
     "output_type": "stream",
     "text": [
      "The path (x,y):\n",
      "->(0, 0)->(1, 0)->(2, 0)->(3, 0)->(4, 0)->(4, 1)->(5, 1)->(6, 1)->(7, 1)->(8, 1)->(8, 2)->(8, 3)->(8, 4)->(8, 5)->(8, 6)->(7, 6)->(7, 7)->(7, 8)->(7, 9)->(7, 10)->(7, 11)->(6, 11)->(6, 12)->(6, 13)->(6, 14)->(7, 14)->(8, 14)->(9, 14)->(10, 14)->(10, 15)->(11, 15)->(11, 16)->(12, 16)->(12, 17)->(12, 18)->(12, 19)->(13, 19)->(14, 19)->(15, 19)->(16, 19)->(17, 19)->(18, 19)->(19, 19)->(19, 20)->(19, 21)->(19, 22)->(20, 22)->(20, 23)->(21, 23)->(21, 24)->(22, 24)->(23, 24)->(23, 25)->(23, 26)->(24, 26)->(25, 26)->(26, 26)\n",
      "The path map:\n",
      "-------------------------------------------------------------------------------------------------------------\n",
      "|(.)|(.)|(.)|(.)|(.)| * | * | * | * | * | * | * | * | * | * | . | . | . | . | . | . | . | . | . | . | . | . |\n",
      "-------------------------------------------------------------------------------------------------------------\n",
      "| . | . | . | . |(.)|(.)|(.)|(*)|(*)| * | * | * | * | * | * | * | . | . | x | x | x | x | x | x | x | . | . |\n",
      "-------------------------------------------------------------------------------------------------------------\n",
      "| . | . | . | . | x | x | * | * |(*)| * | * | * | * | * | * | * | * | x | x | x | ^ | ^ | ^ | x | x | ^ | ^ |\n",
      "-------------------------------------------------------------------------------------------------------------\n",
      "| . | . | . | . | ^ | x | x | x |(*)| * | * | * | ~ | ~ | * | * | * | * | * | . | . | ^ | ^ | x | x | ^ | . |\n",
      "-------------------------------------------------------------------------------------------------------------\n",
      "| . | . | . | ^ | ^ | x | x | * |(*)| . | . | ~ | ~ | ~ | ~ | * | * | * | . | . | . | ^ | x | x | x | ^ | . |\n",
      "-------------------------------------------------------------------------------------------------------------\n",
      "| . | ^ | ^ | ^ | x | x | ^ | ^ |(.)| . | . | . | ~ | ~ | ~ | ~ | ~ | . | . | . | . | . | ^ | x | ^ | . | . |\n",
      "-------------------------------------------------------------------------------------------------------------\n",
      "| . | ^ | ^ | x | x | ^ | ^ |(.)|(.)| . | . | ^ | x | x | x | ~ | ~ | ~ | . | . | . | . | . | ^ | . | . | . |\n",
      "-------------------------------------------------------------------------------------------------------------\n",
      "| . | . | ^ | ^ | ^ | ^ | ^ |(.)| . | . | . | . | . | ^ | x | x | x | ~ | ~ | ~ | . | . | ^ | ^ | ^ | . | . |\n",
      "-------------------------------------------------------------------------------------------------------------\n",
      "| . | . | . | ^ | ^ | ^ | . |(.)| . | . | . | . | ^ | ^ | x | x | . | ~ | ~ | . | . | ^ | ^ | ^ | . | . | . |\n",
      "-------------------------------------------------------------------------------------------------------------\n",
      "| . | . | . | ~ | ~ | ~ | . |(.)| ^ | ^ | ^ | x | x | x | x | . | . | . | ~ | . | ^ | ^ | ^ | . | . | . | . |\n",
      "-------------------------------------------------------------------------------------------------------------\n",
      "| . | . | ~ | ~ | ~ | ~ | ~ |(.)| ^ | ^ | x | x | x | ^ | . | . | . | . | . | ^ | x | x | x | ^ | . | . | . |\n",
      "-------------------------------------------------------------------------------------------------------------\n",
      "| . | ~ | ~ | ~ | ~ | ~ |(.)|(.)| ^ | x | x | ^ | . | . | . | . | ~ | ~ | . | . | ^ | x | x | ^ | . | . | . |\n",
      "-------------------------------------------------------------------------------------------------------------\n",
      "| ~ | ~ | ~ | ~ | ~ | . |(.)| ^ | ^ | x | x | ^ | . | ~ | ~ | ~ | ~ | . | . | . | ^ | x | ^ | . | . | . | . |\n",
      "-------------------------------------------------------------------------------------------------------------\n",
      "| . | ~ | ~ | ~ | ~ | . |(.)| ^ | * | * | ^ | . | . | . | . | ~ | ~ | ~ | ~ | . | . | ^ | . | . | . | . | . |\n",
      "-------------------------------------------------------------------------------------------------------------\n",
      "| . | . | . | . | x | . |(.)|(*)|(*)|(*)|(*)| ^ | ^ | ^ | ^ | . | ~ | ~ | ~ | . | . | ^ | x | ^ | . | . | . |\n",
      "-------------------------------------------------------------------------------------------------------------\n",
      "| . | . | . | x | x | x | * | * | * | * |(*)|(*)| x | x | x | ^ | ^ | . | ~ | . | ^ | x | x | ^ | . | . | . |\n",
      "-------------------------------------------------------------------------------------------------------------\n",
      "| . | . | x | x | * | * | * | * | * | * | * |(*)|(*)| * | x | x | x | . | . | x | x | x | . | . | . | . | . |\n",
      "-------------------------------------------------------------------------------------------------------------\n",
      "| . | . | . | x | x | * | * | * | * | * | * | * |(*)| * | * | * | x | x | x | x | . | . | . | . | . | . | . |\n",
      "-------------------------------------------------------------------------------------------------------------\n",
      "| . | . | . | x | x | x | * | * | * | * | * | * |(*)| * | . | . | . | ^ | ^ | . | . | . | . | . | . | . | . |\n",
      "-------------------------------------------------------------------------------------------------------------\n",
      "| . | . | . | . | x | x | x | * | * | * | * | * |(*)|(.)|(.)|(.)|(.)|(.)|(.)|(.)| . | . | . | ~ | ~ | ~ | ~ |\n",
      "-------------------------------------------------------------------------------------------------------------\n",
      "| . | . | ^ | ^ | ^ | ^ | x | x | * | * | * | * | * | . | x | . | . | . | . |(.)| ~ | ~ | ~ | ~ | ~ | ~ | ~ |\n",
      "-------------------------------------------------------------------------------------------------------------\n",
      "| . | . | . | . | ^ | ^ | ^ | x | x | x | * | * | x | x | . | . | . | . | . |(.)| ~ | ~ | ~ | ~ | ~ | ~ | ~ |\n",
      "-------------------------------------------------------------------------------------------------------------\n",
      "| . | . | . | . | . | . | ^ | ^ | ^ | x | x | x | x | . | . | . | . | ^ | ^ |(.)|(.)| ~ | ~ | ~ | ~ | ~ | ~ |\n",
      "-------------------------------------------------------------------------------------------------------------\n",
      "| . | ^ | ^ | . | . | ^ | ^ | ^ | ^ | ^ | . | . | . | . | . | ^ | ^ | x | x | ^ |(^)|(.)| ~ | ~ | ~ | ~ | ~ |\n",
      "-------------------------------------------------------------------------------------------------------------\n",
      "| ^ | x | ^ | ^ | ^ | ^ | . | . | . | . | . | x | x | x | ^ | ^ | x | x | . | x | x |(^)|(^)|(~)| ~ | ~ | ~ |\n",
      "-------------------------------------------------------------------------------------------------------------\n",
      "| ^ | x | x | x | ^ | . | . | . | . | . | ^ | ^ | x | x | x | x | ^ | ^ | ^ | ^ | x | x | x |(~)| ~ | ~ | ~ |\n",
      "-------------------------------------------------------------------------------------------------------------\n",
      "| ^ | ^ | . | . | . | . | . | . | . | . | . | . | ^ | ^ | ^ | ^ | ^ | . | . | . | . | ^ | ^ |(^)|(.)|(.)|(.)|\n",
      "-------------------------------------------------------------------------------------------------------------\n",
      "\n"
     ]
    }
   ],
   "source": [
    "full_path = a_star_search( full_world, COSTS, (0, 0), (26, 26), MOVES)\n",
    "print_path( full_world, full_path)"
   ]
  }
 ],
 "metadata": {
  "anaconda-cloud": {},
  "kernelspec": {
   "display_name": "Python [Root]",
   "language": "python",
   "name": "Python [Root]"
  },
  "language_info": {
   "codemirror_mode": {
    "name": "ipython",
    "version": 2
   },
   "file_extension": ".py",
   "mimetype": "text/x-python",
   "name": "python",
   "nbconvert_exporter": "python",
   "pygments_lexer": "ipython2",
   "version": "2.7.12"
  }
 },
 "nbformat": 4,
 "nbformat_minor": 0
}
